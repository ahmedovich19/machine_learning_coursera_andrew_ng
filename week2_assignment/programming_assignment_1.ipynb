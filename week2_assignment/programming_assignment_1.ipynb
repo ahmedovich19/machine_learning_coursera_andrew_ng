{
  "cells": [
    {
      "cell_type": "markdown",
      "metadata": {
        "id": "jGWxaxQtr1Ic"
      },
      "source": [
        "# Programming Exercise 1: Linear Regression"
      ]
    },
    {
      "cell_type": "code",
      "execution_count": null,
      "metadata": {
        "id": "C61Y0bLNr1Is"
      },
      "outputs": [],
      "source": [
        "# used for manipulating directory paths\n",
        "import os\n",
        "\n",
        "# Scientific and vector computation for python\n",
        "import numpy as np\n",
        "\n",
        "# Plotting library\n",
        "import matplotlib.pyplot as plt\n",
        "from mpl_toolkits.mplot3d import Axes3D  # needed to plot 3-D surfaces\n",
        "\n",
        "# library written for this exercise providing additional functions for assignment submission, and others\n",
        "import utils \n",
        "\n",
        "# define the submission/grader object for this exercise\n",
        "grader = utils.Grader()\n",
        "\n",
        "# tells matplotlib to embed plots within the notebook\n",
        "%matplotlib inline"
      ]
    },
    {
      "cell_type": "markdown",
      "metadata": {
        "id": "BPT5o4HZr1I4"
      },
      "source": [
        "return a 5 x 5 identity matrix by filling in the following code:"
      ]
    },
    {
      "cell_type": "code",
      "execution_count": null,
      "metadata": {
        "id": "O0fqbfgcr1I6"
      },
      "outputs": [],
      "source": [
        "def warmUpExercise():\n",
        "    \"\"\"\n",
        "    Example function in Python which computes the identity matrix.\n",
        "    \n",
        "    Returns\n",
        "    -------\n",
        "    A : array_like\n",
        "        The 5x5 identity matrix.\n",
        "    \n",
        "    Instructions\n",
        "    ------------\n",
        "    Return the 5x5 identity matrix.\n",
        "    \"\"\"    \n",
        "    # ======== YOUR CODE HERE ======\n",
        "    A = np.eye(5)   # modify this line\n",
        "    \n",
        "    # ==============================\n",
        "    return A"
      ]
    },
    {
      "cell_type": "markdown",
      "metadata": {
        "id": "eG-5-z_sr1I-"
      },
      "source": [
        "The previous cell only defines the function `warmUpExercise`. We can now run it by executing the following cell to see its output. You should see output similar to the following:\n",
        "\n",
        "```python\n",
        "array([[ 1.,  0.,  0.,  0.,  0.],\n",
        "       [ 0.,  1.,  0.,  0.,  0.],\n",
        "       [ 0.,  0.,  1.,  0.,  0.],\n",
        "       [ 0.,  0.,  0.,  1.,  0.],\n",
        "       [ 0.,  0.,  0.,  0.,  1.]])\n",
        "```"
      ]
    },
    {
      "cell_type": "code",
      "execution_count": null,
      "metadata": {
        "id": "sCwd6L6Qr1JA"
      },
      "outputs": [],
      "source": [
        "warmUpExercise()"
      ]
    },
    {
      "cell_type": "markdown",
      "metadata": {
        "id": "e336VCabr1JC"
      },
      "source": [
        "### 1.1 Submitting solutions\n"
      ]
    },
    {
      "cell_type": "code",
      "execution_count": null,
      "metadata": {
        "id": "2jNh8397r1JE"
      },
      "outputs": [],
      "source": [
        "# appends the implemented function in part 1 to the grader object\n",
        "grader[1] = warmUpExercise\n",
        "\n",
        "# send the added functions to coursera grader for getting a grade on this part\n",
        "grader.grade()"
      ]
    },
    {
      "cell_type": "markdown",
      "metadata": {
        "id": "6OD7dD4Gr1JH"
      },
      "source": [
        "## 2 Linear regression with one variable\n",
        "\n",
        "The file `Data/ex1data1.txt` contains the dataset for our linear regression problem. The first column is the population of a city (in 10,000s) and the second column is the profit of a food truck in that city (in $10,000s). A negative value for profit indicates a loss. "
      ]
    },
    {
      "cell_type": "code",
      "execution_count": null,
      "metadata": {
        "id": "Zdaodkhtr1JK"
      },
      "outputs": [],
      "source": [
        "# Read comma separated data\n",
        "data = np.loadtxt(os.path.join('Data', 'ex1data1.txt'), delimiter=',')\n",
        "X, y = data[:, 0], data[:, 1]\n",
        "\n",
        "m = y.size  # number of training examples"
      ]
    },
    {
      "cell_type": "markdown",
      "metadata": {
        "id": "PygLCs3ur1JM"
      },
      "source": [
        "### 2.1 Plotting the Data"
      ]
    },
    {
      "cell_type": "code",
      "execution_count": null,
      "metadata": {
        "id": "i5MiVeVFr1JQ"
      },
      "outputs": [],
      "source": [
        "def plotData(x, y):\n",
        "    \"\"\"\n",
        "    Plots the data points x and y into a new figure. Plots the data \n",
        "    points and gives the figure axes labels of population and profit.\n",
        "    \n",
        "    Parameters\n",
        "    ----------\n",
        "    x : array_like\n",
        "        Data point values for x-axis.\n",
        "\n",
        "    y : array_like\n",
        "        Data point values for y-axis. Note x and y should have the same size.\n",
        "    \n",
        "    Instructions\n",
        "    ------------\n",
        "    Plot the training data into a figure using the \"figure\" and \"plot\"\n",
        "    functions. Set the axes labels using the \"xlabel\" and \"ylabel\" functions.\n",
        "    Assume the population and revenue data have been passed in as the x\n",
        "    and y arguments of this function.    \n",
        "    \n",
        "    Hint\n",
        "    ----\n",
        "    You can use the 'ro' option with plot to have the markers\n",
        "    appear as red circles. Furthermore, you can make the markers larger by\n",
        "    using plot(..., 'ro', ms=10), where `ms` refers to marker size. You \n",
        "    can also set the marker edge color using the `mec` property.\n",
        "    \"\"\"\n",
        "    fig = plt.figure()  # open a new figure\n",
        "    \n",
        "    # ====================== YOUR CODE HERE ======================= \n",
        "    plt.plot(X,y,\"ro\",ms=10,mec=\"k\")\n",
        "    plt.xlabel(\"Population of City in 10,000s\")\n",
        "    plt.ylabel(\"Profit in $10,000\")\n",
        "    # =============================================================\n"
      ]
    },
    {
      "cell_type": "markdown",
      "metadata": {
        "id": "j07cBBkur1JT"
      },
      "source": [
        "Now run the defined function with the loaded data to visualize the data. The end result should look like the following figure:\n",
        "\n",
        "![](Figures/dataset1.png)\n",
        "\n",
        "Execute the next cell to visualize the data."
      ]
    },
    {
      "cell_type": "code",
      "execution_count": null,
      "metadata": {
        "id": "SIWwlTRVr1JV"
      },
      "outputs": [],
      "source": [
        "plotData(X, y)"
      ]
    },
    {
      "cell_type": "markdown",
      "metadata": {
        "id": "CTg-5ni9r1JZ"
      },
      "source": [
        "<a id=\"section2\"></a>\n",
        "### 2.2 Gradient Descent\n",
        "\n",
        "In this part, you will fit the linear regression parameters $\\theta$ to our dataset using gradient descent.\n",
        "\n",
        "#### 2.2.1 Update Equations\n",
        "\n",
        "The objective of linear regression is to minimize the cost function\n",
        "\n",
        "$$ J(\\theta) = \\frac{1}{2m} \\sum_{i=1}^m \\left( h_{\\theta}(x^{(i)}) - y^{(i)}\\right)^2$$\n",
        "\n",
        "where the hypothesis $h_\\theta(x)$ is given by the linear model\n",
        "$$ h_\\theta(x) = \\theta^Tx = \\theta_0 + \\theta_1 x_1$$\n",
        "\n",
        "Recall that the parameters of your model are the $\\theta_j$ values. These are\n",
        "the values you will adjust to minimize cost $J(\\theta)$. One way to do this is to\n",
        "use the batch gradient descent algorithm. In batch gradient descent, each\n",
        "iteration performs the update\n",
        "\n",
        "$$ \\theta_j = \\theta_j - \\alpha \\frac{1}{m} \\sum_{i=1}^m \\left( h_\\theta(x^{(i)}) - y^{(i)}\\right)x_j^{(i)} \\qquad \\text{simultaneously update } \\theta_j \\text{ for all } j$$\n",
        "\n",
        "With each step of gradient descent, your parameters $\\theta_j$ come closer to the optimal values that will achieve the lowest cost J($\\theta$).\n",
        "\n",
        "<div class=\"alert alert-block alert-warning\">\n",
        "**Implementation Note:** We store each example as a row in the the $X$ matrix in Python `numpy`. To take into account the intercept term ($\\theta_0$), we add an additional first column to $X$ and set it to all ones. This allows us to treat $\\theta_0$ as simply another 'feature'.\n",
        "</div>\n",
        "\n",
        "\n",
        "#### 2.2.2 Implementation\n",
        "\n",
        "We have already set up the data for linear regression. In the following cell, we add another dimension to our data to accommodate the $\\theta_0$ intercept term. Do NOT execute this cell more than once."
      ]
    },
    {
      "cell_type": "code",
      "execution_count": null,
      "metadata": {
        "id": "3IjoHZCar1Ja"
      },
      "outputs": [],
      "source": [
        "# Add a column of ones to X. The numpy function stack joins arrays along a given axis. \n",
        "# The first axis (axis=0) refers to rows (training examples) \n",
        "# and second axis (axis=1) refers to columns (features).\n",
        "X = np.stack([np.ones(m), X], axis=1)"
      ]
    },
    {
      "cell_type": "markdown",
      "metadata": {
        "id": "kqvYb5RMr1Jc"
      },
      "source": [
        "#### 2.2.3 Computing the cost $J(\\theta)$"
      ]
    },
    {
      "cell_type": "code",
      "execution_count": null,
      "metadata": {
        "id": "lpgld5NWr1Jf"
      },
      "outputs": [],
      "source": [
        "def computeCost(X, y, theta):\n",
        "    \"\"\"\n",
        "    Compute cost for linear regression. Computes the cost of using theta as the\n",
        "    parameter for linear regression to fit the data points in X and y.\n",
        "    \n",
        "    Parameters\n",
        "    ----------\n",
        "    X : array_like\n",
        "        The input dataset of shape (m x n+1), where m is the number of examples,\n",
        "        and n is the number of features. We assume a vector of one's already \n",
        "        appended to the features so we have n+1 columns.\n",
        "    \n",
        "    y : array_like\n",
        "        The values of the function at each data point. This is a vector of\n",
        "        shape (m, ).\n",
        "    \n",
        "    theta : array_like\n",
        "        The parameters for the regression function. This is a vector of \n",
        "        shape (n+1, ).\n",
        "    \n",
        "    Returns\n",
        "    -------\n",
        "    J : float\n",
        "        The value of the regression cost function.\n",
        "    \n",
        "    Instructions\n",
        "    ------------\n",
        "    Compute the cost of a particular choice of theta. \n",
        "    You should set J to the cost.\n",
        "    \"\"\"\n",
        "    \n",
        "    # initialize some useful values\n",
        "    m = y.size  # number of training examples\n",
        "    \n",
        "    # You need to return the following variables correctly\n",
        "    J = 0\n",
        "    \n",
        "    # ====================== YOUR CODE HERE =====================\n",
        "    h = np.dot(X, theta)\n",
        "    \n",
        "    J = (1/(2 * m)) * np.sum(np.square(h - y))\n",
        "    \n",
        "    # ===========================================================\n",
        "    return J"
      ]
    },
    {
      "cell_type": "markdown",
      "metadata": {
        "id": "ya0RGa03r1Ji"
      },
      "source": [
        "Once you have completed the function, the next step will run `computeCost` two times using two different initializations of $\\theta$. You will see the cost printed to the screen."
      ]
    },
    {
      "cell_type": "code",
      "execution_count": null,
      "metadata": {
        "id": "nrO-1MIQr1Jj"
      },
      "outputs": [],
      "source": [
        "J = computeCost(X, y, theta=np.array([0.0, 0.0]))\n",
        "print('With theta = [0, 0] \\nCost computed = %.2f' % J)\n",
        "print('Expected cost value (approximately) 32.07\\n')\n",
        "\n",
        "# further testing of the cost function\n",
        "J = computeCost(X, y, theta=np.array([-1, 2]))\n",
        "print('With theta = [-1, 2]\\nCost computed = %.2f' % J)\n",
        "print('Expected cost value (approximately) 54.24')"
      ]
    },
    {
      "cell_type": "markdown",
      "metadata": {
        "id": "yQG9_ODKr1Jl"
      },
      "source": [
        "*You should now submit your solutions by executing the following cell.*"
      ]
    },
    {
      "cell_type": "code",
      "execution_count": null,
      "metadata": {
        "id": "sBe0PaMMr1Jm"
      },
      "outputs": [],
      "source": [
        "grader[2] = computeCost\n",
        "grader.grade()"
      ]
    },
    {
      "cell_type": "markdown",
      "metadata": {
        "id": "Rl1nMtZ0r1Jn"
      },
      "source": [
        "#### 2.2.4 Gradient descent"
      ]
    },
    {
      "cell_type": "code",
      "execution_count": null,
      "metadata": {
        "id": "sNL8O9J_r1Jo"
      },
      "outputs": [],
      "source": [
        "def gradientDescent(X, y, theta, alpha, num_iters):\n",
        "    \"\"\"\n",
        "    Performs gradient descent to learn `theta`. Updates theta by taking `num_iters`\n",
        "    gradient steps with learning rate `alpha`.\n",
        "    \n",
        "    Parameters\n",
        "    ----------\n",
        "    X : array_like\n",
        "        The input dataset of shape (m x n+1).\n",
        "    \n",
        "    y : array_like\n",
        "        Value at given features. A vector of shape (m, ).\n",
        "    \n",
        "    theta : array_like\n",
        "        Initial values for the linear regression parameters. \n",
        "        A vector of shape (n+1, ).\n",
        "    \n",
        "    alpha : float\n",
        "        The learning rate.\n",
        "    \n",
        "    num_iters : int\n",
        "        The number of iterations for gradient descent. \n",
        "    \n",
        "    Returns\n",
        "    -------\n",
        "    theta : array_like\n",
        "        The learned linear regression parameters. A vector of shape (n+1, ).\n",
        "    \n",
        "    J_history : list\n",
        "        A python list for the values of the cost function after each iteration.\n",
        "    \n",
        "    Instructions\n",
        "    ------------\n",
        "    Peform a single gradient step on the parameter vector theta.\n",
        "\n",
        "    While debugging, it can be useful to print out the values of \n",
        "    the cost function (computeCost) and gradient here.\n",
        "    \"\"\"\n",
        "    # Initialize some useful values\n",
        "    m = y.shape[0]  # number of training examples\n",
        "    \n",
        "    # make a copy of theta, to avoid changing the original array, since numpy arrays\n",
        "    # are passed by reference to functions\n",
        "    theta = theta.copy()\n",
        "    \n",
        "    J_history = [] # Use a python list to save cost in every iteration\n",
        "    \n",
        "    for i in range(num_iters):\n",
        "        # ==================== YOUR CODE HERE =================================\n",
        "        theta = theta - (alpha / m) * (np.dot(X, theta) - y).dot(X)\n",
        "        # =====================================================================\n",
        "        \n",
        "        # save the cost J in every iteration\n",
        "        J_history.append(computeCost(X, y, theta))\n",
        "    \n",
        "    return theta, J_history"
      ]
    },
    {
      "cell_type": "markdown",
      "metadata": {
        "id": "-cuWEqoUr1Js"
      },
      "source": [
        "After you are finished call the implemented `gradientDescent` function and print the computed $\\theta$. We initialize the $\\theta$ parameters to 0 and the learning rate $\\alpha$ to 0.01. Execute the following cell to check your code."
      ]
    },
    {
      "cell_type": "code",
      "execution_count": null,
      "metadata": {
        "id": "bbfbGB0yr1Jy"
      },
      "outputs": [],
      "source": [
        "# initialize fitting parameters\n",
        "theta = np.zeros(2)\n",
        "\n",
        "# some gradient descent settings\n",
        "iterations = 1500\n",
        "alpha = 0.01\n",
        "\n",
        "theta, J_history = gradientDescent(X ,y, theta, alpha, iterations)\n",
        "print('Theta found by gradient descent: {:.4f}, {:.4f}'.format(*theta))\n",
        "print('Expected theta values (approximately): [-3.6303, 1.1664]')"
      ]
    },
    {
      "cell_type": "markdown",
      "metadata": {
        "id": "fP7Mj2gbr1Jz"
      },
      "source": [
        "We will use your final parameters to plot the linear fit. The results should look like the following figure.\n",
        "\n",
        "![](Figures/regression_result.png)"
      ]
    },
    {
      "cell_type": "code",
      "execution_count": null,
      "metadata": {
        "id": "R9DE612Pr1J0"
      },
      "outputs": [],
      "source": [
        "# plot the linear fit\n",
        "plotData(X[:, 1], y)\n",
        "plt.plot(X[:, 1], np.dot(X, theta), '-')\n",
        "plt.legend(['Training data', 'Linear regression']);"
      ]
    },
    {
      "cell_type": "markdown",
      "metadata": {
        "id": "0n-rnOYJr1J1"
      },
      "source": [
        "Your final values for $\\theta$ will also be used to make predictions on profits in areas of 35,000 and 70,000 people."
      ]
    },
    {
      "cell_type": "code",
      "execution_count": null,
      "metadata": {
        "id": "EXGyhQOZr1J2"
      },
      "outputs": [],
      "source": [
        "# Predict values for population sizes of 35,000 and 70,000\n",
        "predict1 = np.dot([1, 3.5], theta)\n",
        "print('For population = 35,000, we predict a profit of {:.2f}\\n'.format(predict1*10000))\n",
        "\n",
        "predict2 = np.dot([1, 7], theta)\n",
        "print('For population = 70,000, we predict a profit of {:.2f}\\n'.format(predict2*10000))"
      ]
    },
    {
      "cell_type": "markdown",
      "metadata": {
        "id": "Klevwa5Or1J3"
      },
      "source": [
        "*You should now submit your solutions by executing the next cell.*"
      ]
    },
    {
      "cell_type": "code",
      "execution_count": null,
      "metadata": {
        "id": "IB5MP4tAr1J4"
      },
      "outputs": [],
      "source": [
        "grader[3] = gradientDescent\n",
        "grader.grade()"
      ]
    },
    {
      "cell_type": "markdown",
      "metadata": {
        "id": "QkQrDv8Kr1J6"
      },
      "source": [
        "### 2.4 Visualizing $J(\\theta)$\n",
        "you will now plot the cost over a 2-dimensional grid of $\\theta_0$ and $\\theta_1$ values."
      ]
    },
    {
      "cell_type": "code",
      "execution_count": null,
      "metadata": {
        "id": "1Z51F9aXr1J8"
      },
      "outputs": [],
      "source": [
        "# grid over which we will calculate J\n",
        "theta0_vals = np.linspace(-10, 10, 100)\n",
        "theta1_vals = np.linspace(-1, 4, 100)\n",
        "\n",
        "# initialize J_vals to a matrix of 0's\n",
        "J_vals = np.zeros((theta0_vals.shape[0], theta1_vals.shape[0]))\n",
        "\n",
        "# Fill out J_vals\n",
        "for i, theta0 in enumerate(theta0_vals):\n",
        "    for j, theta1 in enumerate(theta1_vals):\n",
        "        J_vals[i, j] = computeCost(X, y, [theta0, theta1])\n",
        "        \n",
        "# Because of the way meshgrids work in the surf command, we need to\n",
        "# transpose J_vals before calling surf, or else the axes will be flipped\n",
        "J_vals = J_vals.T\n",
        "\n",
        "# surface plot\n",
        "fig = plt.figure(figsize=(12, 5))\n",
        "ax = fig.add_subplot(121, projection='3d')\n",
        "ax.plot_surface(theta0_vals, theta1_vals, J_vals, cmap='viridis')\n",
        "plt.xlabel('theta0')\n",
        "plt.ylabel('theta1')\n",
        "plt.title('Surface')\n",
        "\n",
        "# contour plot\n",
        "# Plot J_vals as 15 contours spaced logarithmically between 0.01 and 100\n",
        "ax = plt.subplot(122)\n",
        "plt.contour(theta0_vals, theta1_vals, J_vals, linewidths=2, cmap='viridis', levels=np.logspace(-2, 3, 20))\n",
        "plt.xlabel('theta0')\n",
        "plt.ylabel('theta1')\n",
        "plt.plot(theta[0], theta[1], 'ro', ms=10, lw=2)\n",
        "plt.title('Contour, showing minimum')\n",
        "pass"
      ]
    },
    {
      "cell_type": "markdown",
      "metadata": {
        "id": "ZXt7nLedr1J9"
      },
      "source": [
        "## Optional Exercises\n",
        "\n",
        "\n",
        "\n",
        "## 3 Linear regression with multiple variables\n",
        "\n",
        "\n",
        "\n",
        "The file `Data/ex1data2.txt` contains a training set of housing prices in Portland, Oregon. The first column is the size of the house (in square feet), the second column is the number of bedrooms, and the third column is the price\n",
        "of the house. "
      ]
    },
    {
      "cell_type": "code",
      "execution_count": null,
      "metadata": {
        "id": "3afTsZqJr1J-"
      },
      "outputs": [],
      "source": [
        "# Load data\n",
        "data = np.loadtxt(os.path.join('Data', 'ex1data2.txt'), delimiter=',')\n",
        "X = data[:, :2]\n",
        "y = data[:, 2]\n",
        "m = y.size\n",
        "\n",
        "# print out some data points\n",
        "print('{:>8s}{:>8s}{:>10s}'.format('X[:,0]', 'X[:, 1]', 'y'))\n",
        "print('-'*26)\n",
        "for i in range(10):\n",
        "    print('{:8.0f}{:8.0f}{:10.0f}'.format(X[i, 0], X[i, 1], y[i]))"
      ]
    },
    {
      "cell_type": "markdown",
      "metadata": {
        "id": "jGr-JW4dr1KA"
      },
      "source": [
        "### 3.1 Feature Normalization"
      ]
    },
    {
      "cell_type": "code",
      "execution_count": null,
      "metadata": {
        "id": "md02W9vFr1KB"
      },
      "outputs": [],
      "source": [
        "def  featureNormalize(X):\n",
        "    \"\"\"\n",
        "    Normalizes the features in X. returns a normalized version of X where\n",
        "    the mean value of each feature is 0 and the standard deviation\n",
        "    is 1. This is often a good preprocessing step to do when working with\n",
        "    learning algorithms.\n",
        "    \n",
        "    Parameters\n",
        "    ----------\n",
        "    X : array_like\n",
        "        The dataset of shape (m x n).\n",
        "    \n",
        "    Returns\n",
        "    -------\n",
        "    X_norm : array_like\n",
        "        The normalized dataset of shape (m x n).\n",
        "    \n",
        "    Instructions\n",
        "    ------------\n",
        "    First, for each feature dimension, compute the mean of the feature\n",
        "    and subtract it from the dataset, storing the mean value in mu. \n",
        "    Next, compute the  standard deviation of each feature and divide\n",
        "    each feature by it's standard deviation, storing the standard deviation \n",
        "    in sigma. \n",
        "    \n",
        "    Note that X is a matrix where each column is a feature and each row is\n",
        "    an example. You needto perform the normalization separately for each feature. \n",
        "    \n",
        "    Hint\n",
        "    ----\n",
        "    You might find the 'np.mean' and 'np.std' functions useful.\n",
        "    \"\"\"\n",
        "    # You need to set these values correctly\n",
        "    X_norm = X.copy()\n",
        "    mu = np.zeros(X.shape[1])\n",
        "    sigma = np.zeros(X.shape[1])\n",
        "\n",
        "    # =========================== YOUR CODE HERE =====================\n",
        "    mu = np.mean(X, axis = 0)\n",
        "    sigma = np.std(X, axis = 0)\n",
        "    X_norm = (X - mu) / sigma\n",
        "    \n",
        "    # ================================================================\n",
        "    return X_norm, mu, sigma"
      ]
    },
    {
      "cell_type": "markdown",
      "metadata": {
        "id": "e-3CTGU8r1KD"
      },
      "source": [
        "Execute the next cell to run the implemented `featureNormalize` function."
      ]
    },
    {
      "cell_type": "code",
      "execution_count": null,
      "metadata": {
        "id": "8TJd0MUor1KE"
      },
      "outputs": [],
      "source": [
        "# call featureNormalize on the loaded data\n",
        "X_norm, mu, sigma = featureNormalize(X)\n",
        "\n",
        "print('Computed mean:', mu)\n",
        "print('Computed standard deviation:', sigma)"
      ]
    },
    {
      "cell_type": "markdown",
      "metadata": {
        "id": "bhUJgr1Ir1KF"
      },
      "source": [
        "*You should now submit your solutions.*"
      ]
    },
    {
      "cell_type": "code",
      "execution_count": null,
      "metadata": {
        "id": "gEtqI5hdr1KG"
      },
      "outputs": [],
      "source": [
        "grader[4] = featureNormalize\n",
        "grader.grade()"
      ]
    },
    {
      "cell_type": "markdown",
      "metadata": {
        "id": "8-QDT43Mr1KH"
      },
      "source": [
        "After the `featureNormalize` function is tested, we now add the intercept term to `X_norm`:"
      ]
    },
    {
      "cell_type": "code",
      "execution_count": null,
      "metadata": {
        "id": "_w80NfbKr1KI"
      },
      "outputs": [],
      "source": [
        "# Add intercept term to X\n",
        "X = np.concatenate([np.ones((m, 1)), X_norm], axis=1)"
      ]
    },
    {
      "cell_type": "markdown",
      "metadata": {
        "id": "M0bqbbiMr1KJ"
      },
      "source": [
        "### 3.2 Gradient Descent\n",
        "\n",
        "**Implementation Note:** In the multivariate case, the cost function can\n",
        "also be written in the following vectorized form:\n",
        "\n"
      ]
    },
    {
      "cell_type": "code",
      "execution_count": null,
      "metadata": {
        "id": "UpV3_7f9r1KK"
      },
      "outputs": [],
      "source": [
        "def computeCostMulti(X, y, theta):\n",
        "    \"\"\"\n",
        "    Compute cost for linear regression with multiple variables.\n",
        "    Computes the cost of using theta as the parameter for linear regression to fit the data points in X and y.\n",
        "    \n",
        "    Parameters\n",
        "    ----------\n",
        "    X : array_like\n",
        "        The dataset of shape (m x n+1).\n",
        "    \n",
        "    y : array_like\n",
        "        A vector of shape (m, ) for the values at a given data point.\n",
        "    \n",
        "    theta : array_like\n",
        "        The linear regression parameters. A vector of shape (n+1, )\n",
        "    \n",
        "    Returns\n",
        "    -------\n",
        "    J : float\n",
        "        The value of the cost function. \n",
        "    \n",
        "    Instructions\n",
        "    ------------\n",
        "    Compute the cost of a particular choice of theta. You should set J to the cost.\n",
        "    \"\"\"\n",
        "    # Initialize some useful values\n",
        "    m = y.shape[0] # number of training examples\n",
        "    \n",
        "    # You need to return the following variable correctly\n",
        "    J = 0\n",
        "    \n",
        "    # ======================= YOUR CODE HERE ===========================\n",
        "    h = np.dot(X, theta)\n",
        "    \n",
        "    J = (1/(2 * m)) * np.sum(np.square(h - y))\n",
        "    \n",
        "    # ==================================================================\n",
        "    return J\n"
      ]
    },
    {
      "cell_type": "markdown",
      "metadata": {
        "id": "ZqOqcgmwr1KM"
      },
      "source": [
        "*You should now submit your solutions.*"
      ]
    },
    {
      "cell_type": "code",
      "execution_count": null,
      "metadata": {
        "id": "4Y4jML2Hr1KN"
      },
      "outputs": [],
      "source": [
        "grader[5] = computeCostMulti\n",
        "grader.grade()"
      ]
    },
    {
      "cell_type": "markdown",
      "metadata": {
        "id": "Nqa5zEFer1KN"
      },
      "source": [
        "<a id=\"gradientDescentMulti\"></a>"
      ]
    },
    {
      "cell_type": "code",
      "execution_count": null,
      "metadata": {
        "id": "XkYRUWI0r1KO"
      },
      "outputs": [],
      "source": [
        "def gradientDescentMulti(X, y, theta, alpha, num_iters):\n",
        "    \"\"\"\n",
        "    Performs gradient descent to learn theta.\n",
        "    Updates theta by taking num_iters gradient steps with learning rate alpha.\n",
        "        \n",
        "    Parameters\n",
        "    ----------\n",
        "    X : array_like\n",
        "        The dataset of shape (m x n+1).\n",
        "    \n",
        "    y : array_like\n",
        "        A vector of shape (m, ) for the values at a given data point.\n",
        "    \n",
        "    theta : array_like\n",
        "        The linear regression parameters. A vector of shape (n+1, )\n",
        "    \n",
        "    alpha : float\n",
        "        The learning rate for gradient descent. \n",
        "    \n",
        "    num_iters : int\n",
        "        The number of iterations to run gradient descent. \n",
        "    \n",
        "    Returns\n",
        "    -------\n",
        "    theta : array_like\n",
        "        The learned linear regression parameters. A vector of shape (n+1, ).\n",
        "    \n",
        "    J_history : list\n",
        "        A python list for the values of the cost function after each iteration.\n",
        "    \n",
        "    Instructions\n",
        "    ------------\n",
        "    Peform a single gradient step on the parameter vector theta.\n",
        "\n",
        "    While debugging, it can be useful to print out the values of \n",
        "    the cost function (computeCost) and gradient here.\n",
        "    \"\"\"\n",
        "    # Initialize some useful values\n",
        "    m = y.shape[0] # number of training examples\n",
        "    \n",
        "    # make a copy of theta, which will be updated by gradient descent\n",
        "    theta = theta.copy()\n",
        "    \n",
        "    J_history = []\n",
        "    \n",
        "    for i in range(num_iters):\n",
        "        # ======================= YOUR CODE HERE ==========================\n",
        "        theta = theta - (alpha / m) * (np.dot(X, theta) - y).dot(X)\n",
        "        \n",
        "        # =================================================================\n",
        "        \n",
        "        # save the cost J in every iteration\n",
        "        J_history.append(computeCostMulti(X, y, theta))\n",
        "    \n",
        "    return theta, J_history"
      ]
    },
    {
      "cell_type": "markdown",
      "metadata": {
        "id": "yfNefQsJr1KS"
      },
      "source": [
        "*You should now submit your solutions.*"
      ]
    },
    {
      "cell_type": "code",
      "execution_count": null,
      "metadata": {
        "id": "Mzau-1R3r1KT"
      },
      "outputs": [],
      "source": [
        "grader[6] = gradientDescentMulti\n",
        "grader.grade()"
      ]
    },
    {
      "cell_type": "markdown",
      "metadata": {
        "id": "l-K0bZ9Pr1KT"
      },
      "source": [
        "#### 3.2.1 Optional (ungraded) exercise: Selecting learning rates\n"
      ]
    },
    {
      "cell_type": "code",
      "execution_count": null,
      "metadata": {
        "id": "AySCq-fAr1KU"
      },
      "outputs": [],
      "source": [
        "\"\"\"\n",
        "Instructions\n",
        "------------\n",
        "We have provided you with the following starter code that runs\n",
        "gradient descent with a particular learning rate (alpha). \n",
        "\n",
        "Your task is to first make sure that your functions - `computeCost`\n",
        "and `gradientDescent` already work with  this starter code and\n",
        "support multiple variables.\n",
        "\n",
        "After that, try running gradient descent with different values of\n",
        "alpha and see which one gives you the best result.\n",
        "\n",
        "Finally, you should complete the code at the end to predict the price\n",
        "of a 1650 sq-ft, 3 br house.\n",
        "\n",
        "Hint\n",
        "----\n",
        "At prediction, make sure you do the same feature normalization.\n",
        "\"\"\"\n",
        "# Choose some alpha value - change this\n",
        "alpha = 0.1\n",
        "num_iters = 400\n",
        "\n",
        "# init theta and run gradient descent\n",
        "theta = np.zeros(3)\n",
        "theta, J_history = gradientDescentMulti(X, y, theta, alpha, num_iters)\n",
        "\n",
        "# Plot the convergence graph\n",
        "plt.plot(np.arange(len(J_history)), J_history, lw=2)\n",
        "plt.xlabel('Number of iterations')\n",
        "plt.ylabel('Cost J')\n",
        "\n",
        "# Display the gradient descent's result\n",
        "print('theta computed from gradient descent: {:s}'.format(str(theta)))\n",
        "\n",
        "# Estimate the price of a 1650 sq-ft, 3 br house\n",
        "# ======================= YOUR CODE HERE ===========================\n",
        "# Recall that the first column of X is all-ones. \n",
        "# Thus, it does not need to be normalized.\n",
        "\n",
        "X_array = [1, 1650, 3]\n",
        "X_array[1:3] = (X_array[1:3] - mu) / sigma\n",
        "price = np.dot(X_array, theta) \n",
        "\n",
        "# ===================================================================\n",
        "\n",
        "print('Predicted price of a 1650 sq-ft, 3 br house (using gradient descent): ${:.0f}'.format(price))"
      ]
    },
    {
      "cell_type": "markdown",
      "metadata": {
        "id": "LGqXHcGzr1KW"
      },
      "source": [
        "### 3.3 Normal Equations\n",
        "\n",
        "$$ \\theta = \\left( X^T X\\right)^{-1} X^T\\vec{y}$$\n",
        "\n"
      ]
    },
    {
      "cell_type": "code",
      "execution_count": null,
      "metadata": {
        "id": "YJxf2vcmr1KW"
      },
      "outputs": [],
      "source": [
        "# Load data\n",
        "data = np.loadtxt(os.path.join('Data', 'ex1data2.txt'), delimiter=',')\n",
        "X = data[:, :2]\n",
        "y = data[:, 2]\n",
        "m = y.size\n",
        "X = np.concatenate([np.ones((m, 1)), X], axis=1)"
      ]
    },
    {
      "cell_type": "markdown",
      "metadata": {
        "id": "IjIaZTvDr1KX"
      },
      "source": [
        "Complete the code for the function `normalEqn` below to use the formula above to calculate $\\theta$. \n",
        "\n",
        "<a id=\"normalEqn\"></a>"
      ]
    },
    {
      "cell_type": "code",
      "execution_count": null,
      "metadata": {
        "id": "QsM-7qUlr1KX"
      },
      "outputs": [],
      "source": [
        "def normalEqn(X, y):\n",
        "    \"\"\"\n",
        "    Computes the closed-form solution to linear regression using the normal equations.\n",
        "    \n",
        "    Parameters\n",
        "    ----------\n",
        "    X : array_like\n",
        "        The dataset of shape (m x n+1).\n",
        "    \n",
        "    y : array_like\n",
        "        The value at each data point. A vector of shape (m, ).\n",
        "    \n",
        "    Returns\n",
        "    -------\n",
        "    theta : array_like\n",
        "        Estimated linear regression parameters. A vector of shape (n+1, ).\n",
        "    \n",
        "    Instructions\n",
        "    ------------\n",
        "    Complete the code to compute the closed form solution to linear\n",
        "    regression and put the result in theta.\n",
        "    \n",
        "    Hint\n",
        "    ----\n",
        "    Look up the function `np.linalg.pinv` for computing matrix inverse.\n",
        "    \"\"\"\n",
        "    theta = np.zeros(X.shape[1])\n",
        "    \n",
        "    # ===================== YOUR CODE HERE ============================\n",
        "    theta = np.dot(np.dot(np.linalg.inv(np.dot(X.T,X)),X.T),y)\n",
        "    \n",
        "    # =================================================================\n",
        "    return theta"
      ]
    },
    {
      "cell_type": "markdown",
      "metadata": {
        "id": "mV1MTysvr1KY"
      },
      "source": [
        "*You should now submit your solutions.*"
      ]
    },
    {
      "cell_type": "code",
      "execution_count": null,
      "metadata": {
        "id": "VhL2Eikir1KY"
      },
      "outputs": [],
      "source": [
        "grader[7] = normalEqn\n",
        "grader.grade()"
      ]
    },
    {
      "cell_type": "markdown",
      "metadata": {
        "id": "EneWQtfUr1KZ"
      },
      "source": [
        "Optional (ungraded) exercise: Now, once you have found $\\theta$ using this\n",
        "method, use it to make a price prediction for a 1650-square-foot house with\n",
        "3 bedrooms. You should find that gives the same predicted price as the value\n",
        "you obtained using the model fit with gradient descent (in Section 3.2.1)."
      ]
    },
    {
      "cell_type": "code",
      "execution_count": null,
      "metadata": {
        "id": "nHI162Tmr1KZ"
      },
      "outputs": [],
      "source": [
        "# Calculate the parameters from the normal equation\n",
        "theta = normalEqn(X, y);\n",
        "\n",
        "# Display normal equation's result\n",
        "print('Theta computed from the normal equations: {:s}'.format(str(theta)));\n",
        "\n",
        "# Estimate the price of a 1650 sq-ft, 3 br house\n",
        "# ====================== YOUR CODE HERE ======================\n",
        "\n",
        "X_array = [1, 1650, 3]\n",
        "X_array[1:3] = (X_array[1:3] - mu) / sigma\n",
        "price = np.dot(X_array, theta)\n",
        "\n",
        "# ============================================================\n",
        "\n",
        "print('Predicted price of a 1650 sq-ft, 3 br house (using normal equations): ${:.0f}'.format(price))"
      ]
    }
  ],
  "metadata": {
    "kernelspec": {
      "display_name": "Python 3",
      "language": "python",
      "name": "python3"
    },
    "language_info": {
      "codemirror_mode": {
        "name": "ipython",
        "version": 3
      },
      "file_extension": ".py",
      "mimetype": "text/x-python",
      "name": "python",
      "nbconvert_exporter": "python",
      "pygments_lexer": "ipython3",
      "version": "3.6.6"
    },
    "colab": {
      "name": "programming_assignment_1.ipynb",
      "provenance": [],
      "collapsed_sections": [
        "kqvYb5RMr1Jc",
        "Rl1nMtZ0r1Jn"
      ]
    }
  },
  "nbformat": 4,
  "nbformat_minor": 0
}